{
 "cells": [
  {
   "cell_type": "markdown",
   "metadata": {},
   "source": [
    "# data loading"
   ]
  },
  {
   "cell_type": "code",
   "execution_count": 1,
   "metadata": {},
   "outputs": [],
   "source": [
    "import glob\n",
    "import os\n",
    "import re\n",
    "from typing import Dict, List, Tuple\n",
    "\n",
    "import numpy as np\n",
    "import pandas as pd\n",
    "from tqdm import tqdm"
   ]
  },
  {
   "cell_type": "code",
   "execution_count": null,
   "metadata": {},
   "outputs": [
    {
     "name": "stderr",
     "output_type": "stream",
     "text": [
      "  0%|          | 0/8100 [00:00<?, ?it/s]"
     ]
    },
    {
     "name": "stderr",
     "output_type": "stream",
     "text": [
      "100%|██████████| 8100/8100 [00:28<00:00, 288.90it/s]\n"
     ]
    }
   ],
   "source": [
    "end_date = pd.to_datetime(\"2025-05-01\")\n",
    "results_dir = \"data/10-2024_04-2025\"\n",
    "\"\"\"Compute **W**, **R**, and **C** for every parquet in *results_dir*.\"\"\"\n",
    "# 1️⃣ Load parquet files and derive (firstname, lastname, w0)\n",
    "player_dfs: Dict[Tuple[str, str], pd.DataFrame] = {}\n",
    "w0_map: Dict[Tuple[str, str], float] = {}\n",
    "w0_prev_map: Dict[Tuple[str, str], float] = {}\n",
    "\n",
    "fname_rx = re.compile(r\"^(?P<name>.+?)_competitionValuePrev=.*_competitionValue=(?P<val>[+-]?[0-9]*\\.?[0-9]+)$\")\n",
    "fname_rx_prev = re.compile(r\".*_competitionValuePrev=(?P<val>[+-]?[0-9]*\\.?[0-9]+)_.*\")\n",
    "\n",
    "for path in tqdm(glob.glob(os.path.join(results_dir, \"*.parquet\"))):\n",
    "    base = os.path.splitext(os.path.basename(path))[0]\n",
    "    m = fname_rx.match(base)\n",
    "    m_prev = fname_rx_prev.match(base)\n",
    "    if not m or not m_prev:\n",
    "        raise ValueError(f\"Filename does not match '<First>-<Last>_competitionValue=<val>.parquet': {base}\")\n",
    "    name_part, val_part = m.group(\"name\"), m.group(\"val\")\n",
    "    val_part_prev = m_prev.group(\"val\")\n",
    "    # Accept dash or underscore between first and last names\n",
    "    sep = \"*\"\n",
    "    first, last = name_part.split(sep, 1)\n",
    "    last = last.replace(\"*\", \" \")\n",
    "    key = (first, last)\n",
    "    w0_map[key] = float(val_part)\n",
    "    w0_prev_map[key] = float(val_part_prev)\n",
    "    try:\n",
    "        df = pd.read_parquet(path)\n",
    "    except:\n",
    "        print(\"Could not read parquet file:\", path)\n",
    "        df = pd.DataFrame()\n",
    "    if len(df) > 0:\n",
    "        player_dfs[key] = df[df.index < end_date]\n",
    "    else:\n",
    "        player_dfs[key] = df"
   ]
  },
  {
   "cell_type": "code",
   "execution_count": 6,
   "metadata": {},
   "outputs": [
    {
     "data": {
      "text/html": [
       "<div>\n",
       "<style scoped>\n",
       "    .dataframe tbody tr th:only-of-type {\n",
       "        vertical-align: middle;\n",
       "    }\n",
       "\n",
       "    .dataframe tbody tr th {\n",
       "        vertical-align: top;\n",
       "    }\n",
       "\n",
       "    .dataframe thead th {\n",
       "        text-align: right;\n",
       "    }\n",
       "</style>\n",
       "<table border=\"1\" class=\"dataframe\">\n",
       "  <thead>\n",
       "    <tr style=\"text-align: right;\">\n",
       "      <th></th>\n",
       "      <th>adversaryFirstname</th>\n",
       "      <th>adversaryLastname</th>\n",
       "      <th>adversaryPersonId</th>\n",
       "      <th>playerWinnerCode</th>\n",
       "      <th>adversary.classification</th>\n",
       "      <th>rank</th>\n",
       "      <th>adversary.competitionValue4L</th>\n",
       "      <th>Asr_AdversaryValue_f</th>\n",
       "    </tr>\n",
       "    <tr>\n",
       "      <th>date</th>\n",
       "      <th></th>\n",
       "      <th></th>\n",
       "      <th></th>\n",
       "      <th></th>\n",
       "      <th></th>\n",
       "      <th></th>\n",
       "      <th></th>\n",
       "      <th></th>\n",
       "    </tr>\n",
       "  </thead>\n",
       "  <tbody>\n",
       "    <tr>\n",
       "      <th>2025-03-23 00:00:00.000</th>\n",
       "      <td>Ruben</td>\n",
       "      <td>Fernandez</td>\n",
       "      <td>143692</td>\n",
       "      <td>N</td>\n",
       "      <td>R2</td>\n",
       "      <td>None</td>\n",
       "      <td>7.523</td>\n",
       "      <td>NaN</td>\n",
       "    </tr>\n",
       "    <tr>\n",
       "      <th>2025-03-23 00:00:00.000</th>\n",
       "      <td>Olivier</td>\n",
       "      <td>Pifferini</td>\n",
       "      <td>206841</td>\n",
       "      <td>S</td>\n",
       "      <td>R4</td>\n",
       "      <td>None</td>\n",
       "      <td>5.788</td>\n",
       "      <td>NaN</td>\n",
       "    </tr>\n",
       "    <tr>\n",
       "      <th>2025-03-23 00:00:00.000</th>\n",
       "      <td>Adrian</td>\n",
       "      <td>Saliaj</td>\n",
       "      <td>19846541</td>\n",
       "      <td>S</td>\n",
       "      <td>R3</td>\n",
       "      <td>None</td>\n",
       "      <td>6.734</td>\n",
       "      <td>NaN</td>\n",
       "    </tr>\n",
       "    <tr>\n",
       "      <th>2024-06-08 15:34:14.249</th>\n",
       "      <td>Luca</td>\n",
       "      <td>Barlocchi</td>\n",
       "      <td>82471</td>\n",
       "      <td>N</td>\n",
       "      <td>R3</td>\n",
       "      <td>None</td>\n",
       "      <td>6.864</td>\n",
       "      <td>0.0</td>\n",
       "    </tr>\n",
       "    <tr>\n",
       "      <th>2024-05-25 12:00:00.000</th>\n",
       "      <td>Carlos José</td>\n",
       "      <td>Cuevas Guzman</td>\n",
       "      <td>19848728</td>\n",
       "      <td>N</td>\n",
       "      <td>N4</td>\n",
       "      <td>None</td>\n",
       "      <td>10.456</td>\n",
       "      <td>0.0</td>\n",
       "    </tr>\n",
       "    <tr>\n",
       "      <th>2024-05-11 12:00:00.000</th>\n",
       "      <td>Suriya</td>\n",
       "      <td>Stauffer</td>\n",
       "      <td>177265</td>\n",
       "      <td>S</td>\n",
       "      <td>R2</td>\n",
       "      <td>None</td>\n",
       "      <td>7.640</td>\n",
       "      <td>0.0</td>\n",
       "    </tr>\n",
       "    <tr>\n",
       "      <th>2024-05-05 12:00:00.000</th>\n",
       "      <td>Eric</td>\n",
       "      <td>Borter</td>\n",
       "      <td>133202</td>\n",
       "      <td>N</td>\n",
       "      <td>N4</td>\n",
       "      <td>None</td>\n",
       "      <td>9.649</td>\n",
       "      <td>0.0</td>\n",
       "    </tr>\n",
       "  </tbody>\n",
       "</table>\n",
       "</div>"
      ],
      "text/plain": [
       "                        adversaryFirstname adversaryLastname  \\\n",
       "date                                                           \n",
       "2025-03-23 00:00:00.000              Ruben         Fernandez   \n",
       "2025-03-23 00:00:00.000            Olivier         Pifferini   \n",
       "2025-03-23 00:00:00.000             Adrian            Saliaj   \n",
       "2024-06-08 15:34:14.249               Luca         Barlocchi   \n",
       "2024-05-25 12:00:00.000        Carlos José     Cuevas Guzman   \n",
       "2024-05-11 12:00:00.000             Suriya          Stauffer   \n",
       "2024-05-05 12:00:00.000               Eric            Borter   \n",
       "\n",
       "                         adversaryPersonId playerWinnerCode  \\\n",
       "date                                                          \n",
       "2025-03-23 00:00:00.000             143692                N   \n",
       "2025-03-23 00:00:00.000             206841                S   \n",
       "2025-03-23 00:00:00.000           19846541                S   \n",
       "2024-06-08 15:34:14.249              82471                N   \n",
       "2024-05-25 12:00:00.000           19848728                N   \n",
       "2024-05-11 12:00:00.000             177265                S   \n",
       "2024-05-05 12:00:00.000             133202                N   \n",
       "\n",
       "                        adversary.classification  rank  \\\n",
       "date                                                     \n",
       "2025-03-23 00:00:00.000                       R2  None   \n",
       "2025-03-23 00:00:00.000                       R4  None   \n",
       "2025-03-23 00:00:00.000                       R3  None   \n",
       "2024-06-08 15:34:14.249                       R3  None   \n",
       "2024-05-25 12:00:00.000                       N4  None   \n",
       "2024-05-11 12:00:00.000                       R2  None   \n",
       "2024-05-05 12:00:00.000                       N4  None   \n",
       "\n",
       "                         adversary.competitionValue4L  Asr_AdversaryValue_f  \n",
       "date                                                                         \n",
       "2025-03-23 00:00:00.000                         7.523                   NaN  \n",
       "2025-03-23 00:00:00.000                         5.788                   NaN  \n",
       "2025-03-23 00:00:00.000                         6.734                   NaN  \n",
       "2024-06-08 15:34:14.249                         6.864                   0.0  \n",
       "2024-05-25 12:00:00.000                        10.456                   0.0  \n",
       "2024-05-11 12:00:00.000                         7.640                   0.0  \n",
       "2024-05-05 12:00:00.000                         9.649                   0.0  "
      ]
     },
     "execution_count": 6,
     "metadata": {},
     "output_type": "execute_result"
    }
   ],
   "source": [
    "player_dfs[(\"Leonard\",\"Ung\")]"
   ]
  },
  {
   "cell_type": "markdown",
   "metadata": {},
   "source": [
    "# compute W and R"
   ]
  },
  {
   "cell_type": "code",
   "execution_count": 24,
   "metadata": {},
   "outputs": [
    {
     "data": {
      "text/plain": [
       "5.922"
      ]
     },
     "execution_count": 24,
     "metadata": {},
     "output_type": "execute_result"
    }
   ],
   "source": [
    "# ----------------------------------------------------------------------\n",
    "# 1 /  Classification → numeric “code” (the constants SwissTennis gave)\n",
    "# ----------------------------------------------------------------------\n",
    "CLASS_TO_CODE: dict[str, int] = {\n",
    "    \"R8\": 1, \"R7\": 2, \"R6\": 3, \"R5\": 4, \"R4\": 5, \"R3\": 6,\n",
    "    \"R2\": 7, \"R1\": 8, \"N4\": 9, \"N3\": 10, \"N2\": 11,  # N3/N2 = dummy means below\n",
    "}\n",
    "\n",
    "# ----------------------------------------------------------------------\n",
    "# 2 /  Current season’s **mean C-values** per category\n",
    "#     ⚠️  Update these nine (plus the two placeholders) once a year!\n",
    "# ----------------------------------------------------------------------\n",
    "CLASS_MEAN: dict[str, float] = {\n",
    "    \"R8\": 0.872,\n",
    "    \"R7\": 1.837,\n",
    "    \"R6\": 3.448,\n",
    "    \"R5\": 4.721,\n",
    "    \"R4\": 5.844,\n",
    "    \"R3\": 6.894,\n",
    "    \"R2\": 8.091,\n",
    "    \"R1\": 9.317,\n",
    "    \"N4\": 10.565,\n",
    "    \"N3\": 11.984,\n",
    "    \"N2\": 13.399,\n",
    "}\n",
    "\n",
    "# List sorted by the mean values (ascending) once at import-time\n",
    "_SORTED_BANDS: list[tuple[str, float]] = sorted(\n",
    "    CLASS_MEAN.items(), key=lambda kv: kv[1]\n",
    ")\n",
    "# ----------------------------------------------------------------------\n",
    "# 0 /  Tables exactly as before (leave them in your module) …  CLASS_TO_CODE,\n",
    "#       CLASS_MEAN  and  _SORTED_BANDS  are unchanged\n",
    "# ----------------------------------------------------------------------\n",
    "\n",
    "# ----------------------------------------------------------------------\n",
    "# 1 /  NEW  interpolation: use the **neighbouring** categories\n",
    "#       around the player’s own band, i.e.  (band-1, band+1)\n",
    "#       →  if the player is R3   ⇒  bracket = (R4, R2)\n",
    "# ----------------------------------------------------------------------\n",
    "def _interpolate_w5_to_w0(w5_prev: float) -> float:\n",
    "    \"\"\"\n",
    "    Convert last period’s W5 into the starting value W0.\n",
    "\n",
    "    •  Find the band whose *mean* is **closest** to w5_prev  \n",
    "       (that is the player’s own category for the previous season).\n",
    "\n",
    "    •  Interpolate **between the next lower and next higher band**,  \n",
    "       skipping the player’s own mean – exactly what SwissTennis state\n",
    "       (“obere und untere Klassierung” ≈ upper & lower neighbouring class).\n",
    "\n",
    "       – At the lower edge (R8) we clamp to (R8, R7)  \n",
    "       – At the upper edge (N2) we clamp to (N3, N2)\n",
    "\n",
    "    The return value is a continuous code on the 1 … 11 scale\n",
    "    (1=R8, … 11=N2) ready for your log-exp formulas.\n",
    "    \"\"\"\n",
    "    # ---- 1.  locate the player’s band  --------------------------------\n",
    "    closest_idx = min(\n",
    "        range(len(_SORTED_BANDS)),\n",
    "        key=lambda i: abs(_SORTED_BANDS[i][1] - w5_prev),\n",
    "    )\n",
    "\n",
    "    # ---- 2.  choose neighbour bands (clamped at the ends)  ------------\n",
    "    lower_idx = max(0, closest_idx - 1)\n",
    "    upper_idx = min(len(_SORTED_BANDS) - 1, closest_idx + 1)\n",
    "\n",
    "    low_cls, low_val = _SORTED_BANDS[lower_idx]\n",
    "    up_cls,  up_val  = _SORTED_BANDS[upper_idx]\n",
    "\n",
    "    # identical when we’re already at an edge band\n",
    "    if up_val == low_val:\n",
    "        return float(CLASS_TO_CODE[low_cls])\n",
    "\n",
    "    # ---- 3.  linear blend  --------------------------------------------\n",
    "    t = (w5_prev - low_val) / (up_val - low_val)          # 0 … 1\n",
    "    return CLASS_TO_CODE[low_cls] + t * (\n",
    "        CLASS_TO_CODE[up_cls] - CLASS_TO_CODE[low_cls]\n",
    "    )\n",
    "\n",
    "\n",
    "# ----------------------------------------------------------------------\n",
    "# 2 /  Public façade – name unchanged, rest of your code still works\n",
    "# ----------------------------------------------------------------------\n",
    "\n",
    "def update_w0(w5_prev: float) -> float:\n",
    "    \"\"\"Public façade – keep function name so the rest of the code stays untouched.\"\"\"\n",
    "    return round(_interpolate_w5_to_w0(w5_prev),3)\n",
    "\n",
    "\n",
    "\n",
    "update_w0(6.88)  # ≈ 2.295\n"
   ]
  },
  {
   "cell_type": "code",
   "execution_count": 25,
   "metadata": {},
   "outputs": [],
   "source": [
    "def _log_sum_exp(values: List[float]) -> float:\n",
    "    \"\"\"Numerically stable ``log(sum(exp(values)))`` computation.\"\"\"\n",
    "    if not values:\n",
    "        return float(\"-inf\")  # log(0) when the list is empty\n",
    "    m = float(np.max(values))\n",
    "    return m + float(np.log(np.sum(np.exp(np.array(values) - m))))\n",
    "\n",
    "\n",
    "def _disregard_loss_mask(df: pd.DataFrame) -> pd.Series:\n",
    "    mask = pd.Series(False, index=df.index)\n",
    "\n",
    "    if len(df) < 6:\n",
    "        return mask\n",
    "\n",
    "    losses = df[df['playerWinnerCode'] == 'N']\n",
    "\n",
    "    # Number of losses to disregard: floor(len(df) / 6), capped at 4\n",
    "    num_to_disregard = min(len(df) // 6, 4)\n",
    "\n",
    "    if num_to_disregard == 0 or losses.empty:\n",
    "        return pd.Series(False, index=df.index)\n",
    "\n",
    "    losses_to_ignore = losses.nsmallest(num_to_disregard, 'adversary.competitionValue4L')\n",
    "    mask.loc[losses_to_ignore.index] = True\n",
    "    return mask\n",
    "\n",
    "\n",
    "def _compute_W_R(\n",
    "    df: pd.DataFrame,\n",
    "    w0: float,\n",
    "    opponent_values: Dict[Tuple[str, str], float],\n",
    "    print_debug: bool = False,\n",
    ") -> Tuple[float, float]:\n",
    "    \"\"\"Calculate **W** and **R** for a single player.\n",
    "\n",
    "    The ambiguity error observed earlier happens when the DataFrame index is\n",
    "    non‑unique, making ``ignore_loss.at[idx]`` return a *Series* instead of a\n",
    "    scalar.  We therefore switch to **positional** lookup (``iat``) which is\n",
    "    immune to duplicate index labels.\n",
    "    \"\"\"\n",
    "    ignore_loss = _disregard_loss_mask(df)  # positional mask\n",
    "\n",
    "    wins, losses = [], []\n",
    "    for pos, (_, row) in enumerate(df.iterrows()):\n",
    "        code = row[\"playerWinnerCode\"]\n",
    "        opp_key = (row[\"adversaryFirstname\"], row[\"adversaryLastname\"])\n",
    "        w_opp = opponent_values.get(opp_key, row[\"adversary.competitionValue4L\"])\n",
    "        if code == \"S\":\n",
    "            wins.append(w_opp)\n",
    "        elif code == \"N\" and not ignore_loss.iat[pos]:\n",
    "            losses.append(w_opp)\n",
    "        if print_debug:\n",
    "            print(f\"{code = }, {opp_key = }, {w_opp = }, {ignore_loss.iat[pos] = }\")\n",
    "\n",
    "    if print_debug:\n",
    "        print(f\"{(wins) = }\")\n",
    "        print(f\"{(losses) = }\")\n",
    "        print(f\"{ignore_loss = }\")\n",
    "\n",
    "    term_pos = _log_sum_exp([w0] + wins)\n",
    "    term_neg = _log_sum_exp([-w0] + [-w for w in losses])\n",
    "\n",
    "    W = 1 / 2.0 * (term_pos - term_neg)\n",
    "    R = 1 / 6.0 * (term_pos + term_neg)\n",
    "    if print_debug:\n",
    "        print(f\"Computed W={W}, R={R} for w0={w0}\")\n",
    "    return W, R\n"
   ]
  },
  {
   "cell_type": "code",
   "execution_count": 31,
   "metadata": {},
   "outputs": [
    {
     "name": "stderr",
     "output_type": "stream",
     "text": [
      "Computing W:  19%|█▊        | 1503/8047 [00:04<00:22, 296.87it/s]"
     ]
    },
    {
     "name": "stdout",
     "output_type": "stream",
     "text": [
      "--- w0 ---\n",
      "6.853 5.898 6.853\n",
      "code = 'N', opp_key = ('Ruben', 'Fernandez'), w_opp = 7.074, ignore_loss.iat[pos] = np.False_\n",
      "code = 'S', opp_key = ('Olivier', 'Pifferini'), w_opp = 5.386, ignore_loss.iat[pos] = np.False_\n",
      "code = 'S', opp_key = ('Adrian', 'Saliaj'), w_opp = 5.906, ignore_loss.iat[pos] = np.False_\n",
      "code = 'N', opp_key = ('Luca', 'Barlocchi'), w_opp = 7.525, ignore_loss.iat[pos] = np.True_\n",
      "code = 'N', opp_key = ('Carlos José', 'Cuevas Guzman'), w_opp = 10.456, ignore_loss.iat[pos] = np.False_\n",
      "code = 'S', opp_key = ('Suriya', 'Stauffer'), w_opp = 7.869, ignore_loss.iat[pos] = np.False_\n",
      "code = 'N', opp_key = ('Eric', 'Borter'), w_opp = 9.395, ignore_loss.iat[pos] = np.False_\n",
      "(wins) = [5.386, 5.906, 7.869]\n",
      "(losses) = [7.074, 10.456, 9.395]\n",
      "ignore_loss = date\n",
      "2025-03-23 00:00:00.000    False\n",
      "2025-03-23 00:00:00.000    False\n",
      "2025-03-23 00:00:00.000    False\n",
      "2024-06-08 15:34:14.249     True\n",
      "2024-05-25 12:00:00.000    False\n",
      "2024-05-11 12:00:00.000    False\n",
      "2024-05-05 12:00:00.000    False\n",
      "dtype: bool\n",
      "Computed W=6.888648339237792, R=0.43007350546565554 for w0=5.898\n"
     ]
    },
    {
     "name": "stderr",
     "output_type": "stream",
     "text": [
      "Computing W: 100%|██████████| 8047/8047 [00:22<00:00, 364.49it/s]\n"
     ]
    },
    {
     "name": "stdout",
     "output_type": "stream",
     "text": [
      "Mean absolute error after iteration: 0.25359\n"
     ]
    },
    {
     "name": "stderr",
     "output_type": "stream",
     "text": [
      "Computing W:  19%|█▊        | 1506/8047 [00:03<00:15, 422.46it/s]"
     ]
    },
    {
     "name": "stdout",
     "output_type": "stream",
     "text": [
      "--- w0 ---\n",
      "6.888648339237792 5.93 6.853\n",
      "code = 'N', opp_key = ('Ruben', 'Fernandez'), w_opp = 7.597786607553415, ignore_loss.iat[pos] = np.False_\n",
      "code = 'S', opp_key = ('Olivier', 'Pifferini'), w_opp = 5.734469278829283, ignore_loss.iat[pos] = np.False_\n",
      "code = 'S', opp_key = ('Adrian', 'Saliaj'), w_opp = 6.337660760772221, ignore_loss.iat[pos] = np.False_\n",
      "code = 'N', opp_key = ('Luca', 'Barlocchi'), w_opp = 6.904829351225944, ignore_loss.iat[pos] = np.True_\n",
      "code = 'N', opp_key = ('Carlos José', 'Cuevas Guzman'), w_opp = 10.456, ignore_loss.iat[pos] = np.False_\n",
      "code = 'S', opp_key = ('Suriya', 'Stauffer'), w_opp = 7.803645831937018, ignore_loss.iat[pos] = np.False_\n",
      "code = 'N', opp_key = ('Eric', 'Borter'), w_opp = 9.685406601463466, ignore_loss.iat[pos] = np.False_\n",
      "(wins) = [5.734469278829283, 6.337660760772221, 7.803645831937018]\n",
      "(losses) = [7.597786607553415, 10.456, 9.685406601463466]\n",
      "ignore_loss = date\n",
      "2025-03-23 00:00:00.000    False\n",
      "2025-03-23 00:00:00.000    False\n",
      "2025-03-23 00:00:00.000    False\n",
      "2024-06-08 15:34:14.249     True\n",
      "2024-05-25 12:00:00.000    False\n",
      "2024-05-11 12:00:00.000    False\n",
      "2024-05-05 12:00:00.000    False\n",
      "dtype: bool\n",
      "Computed W=6.972506499620714, R=0.41457147548613815 for w0=5.93\n"
     ]
    },
    {
     "name": "stderr",
     "output_type": "stream",
     "text": [
      "Computing W: 100%|██████████| 8047/8047 [00:19<00:00, 406.69it/s]\n"
     ]
    },
    {
     "name": "stdout",
     "output_type": "stream",
     "text": [
      "Mean absolute error after iteration: 0.38153\n"
     ]
    },
    {
     "name": "stderr",
     "output_type": "stream",
     "text": [
      "Computing W:  19%|█▉        | 1510/8047 [00:03<00:14, 439.77it/s]"
     ]
    },
    {
     "name": "stdout",
     "output_type": "stream",
     "text": [
      "--- w0 ---\n",
      "6.972506499620714 6.004 6.853\n",
      "code = 'N', opp_key = ('Ruben', 'Fernandez'), w_opp = 7.820528157893422, ignore_loss.iat[pos] = np.False_\n",
      "code = 'S', opp_key = ('Olivier', 'Pifferini'), w_opp = 5.9558404152251345, ignore_loss.iat[pos] = np.False_\n",
      "code = 'S', opp_key = ('Adrian', 'Saliaj'), w_opp = 6.641366803327026, ignore_loss.iat[pos] = np.False_\n",
      "code = 'N', opp_key = ('Luca', 'Barlocchi'), w_opp = 6.535472249202826, ignore_loss.iat[pos] = np.True_\n",
      "code = 'N', opp_key = ('Carlos José', 'Cuevas Guzman'), w_opp = 10.456, ignore_loss.iat[pos] = np.False_\n",
      "code = 'S', opp_key = ('Suriya', 'Stauffer'), w_opp = 7.786521191262812, ignore_loss.iat[pos] = np.False_\n",
      "code = 'N', opp_key = ('Eric', 'Borter'), w_opp = 9.76903604228919, ignore_loss.iat[pos] = np.False_\n",
      "(wins) = [5.9558404152251345, 6.641366803327026, 7.786521191262812]\n",
      "(losses) = [7.820528157893422, 10.456, 9.76903604228919]\n",
      "ignore_loss = date\n",
      "2025-03-23 00:00:00.000    False\n",
      "2025-03-23 00:00:00.000    False\n",
      "2025-03-23 00:00:00.000    False\n",
      "2024-06-08 15:34:14.249     True\n",
      "2024-05-25 12:00:00.000    False\n",
      "2024-05-11 12:00:00.000    False\n",
      "2024-05-05 12:00:00.000    False\n",
      "dtype: bool\n",
      "Computed W=7.054564048671583, R=0.41024199917667314 for w0=6.004\n"
     ]
    },
    {
     "name": "stderr",
     "output_type": "stream",
     "text": [
      "Computing W: 100%|██████████| 8047/8047 [00:19<00:00, 419.97it/s]\n"
     ]
    },
    {
     "name": "stdout",
     "output_type": "stream",
     "text": [
      "Mean absolute error after iteration: 0.52312\n"
     ]
    },
    {
     "name": "stderr",
     "output_type": "stream",
     "text": [
      "Computing W:  19%|█▉        | 1511/8047 [00:03<00:14, 460.58it/s]"
     ]
    },
    {
     "name": "stdout",
     "output_type": "stream",
     "text": [
      "--- w0 ---\n",
      "7.054564048671583 6.077 6.853\n",
      "code = 'N', opp_key = ('Ruben', 'Fernandez'), w_opp = 7.947579673017778, ignore_loss.iat[pos] = np.False_\n",
      "code = 'S', opp_key = ('Olivier', 'Pifferini'), w_opp = 6.145495575214309, ignore_loss.iat[pos] = np.False_\n",
      "code = 'S', opp_key = ('Adrian', 'Saliaj'), w_opp = 6.841990780811329, ignore_loss.iat[pos] = np.False_\n",
      "code = 'N', opp_key = ('Luca', 'Barlocchi'), w_opp = 6.36651028938045, ignore_loss.iat[pos] = np.True_\n",
      "code = 'N', opp_key = ('Carlos José', 'Cuevas Guzman'), w_opp = 10.456, ignore_loss.iat[pos] = np.False_\n",
      "code = 'S', opp_key = ('Suriya', 'Stauffer'), w_opp = 7.83038706289202, ignore_loss.iat[pos] = np.False_\n",
      "code = 'N', opp_key = ('Eric', 'Borter'), w_opp = 9.827220062071733, ignore_loss.iat[pos] = np.False_\n",
      "(wins) = [6.145495575214309, 6.841990780811329, 7.83038706289202]\n",
      "(losses) = [7.947579673017778, 10.456, 9.827220062071733]\n",
      "ignore_loss = date\n",
      "2025-03-23 00:00:00.000    False\n",
      "2025-03-23 00:00:00.000    False\n",
      "2025-03-23 00:00:00.000    False\n",
      "2024-06-08 15:34:14.249     True\n",
      "2024-05-25 12:00:00.000    False\n",
      "2024-05-11 12:00:00.000    False\n",
      "2024-05-05 12:00:00.000    False\n",
      "dtype: bool\n",
      "Computed W=7.140980039243461, R=0.4126682035958312 for w0=6.077\n"
     ]
    },
    {
     "name": "stderr",
     "output_type": "stream",
     "text": [
      "Computing W: 100%|██████████| 8047/8047 [00:24<00:00, 331.72it/s]\n"
     ]
    },
    {
     "name": "stdout",
     "output_type": "stream",
     "text": [
      "Mean absolute error after iteration: 0.63573\n"
     ]
    },
    {
     "name": "stderr",
     "output_type": "stream",
     "text": [
      "Computing W:  19%|█▊        | 1502/8047 [00:04<00:17, 369.83it/s]"
     ]
    },
    {
     "name": "stdout",
     "output_type": "stream",
     "text": [
      "--- w0 ---\n",
      "7.140980039243461 6.154 6.853\n",
      "code = 'N', opp_key = ('Ruben', 'Fernandez'), w_opp = 8.04484579483789, ignore_loss.iat[pos] = np.False_\n",
      "code = 'S', opp_key = ('Olivier', 'Pifferini'), w_opp = 6.3029996962042505, ignore_loss.iat[pos] = np.False_\n",
      "code = 'S', opp_key = ('Adrian', 'Saliaj'), w_opp = 7.006234689838209, ignore_loss.iat[pos] = np.False_\n",
      "code = 'N', opp_key = ('Luca', 'Barlocchi'), w_opp = 6.33957989512073, ignore_loss.iat[pos] = np.True_\n",
      "code = 'N', opp_key = ('Carlos José', 'Cuevas Guzman'), w_opp = 10.456, ignore_loss.iat[pos] = np.False_\n",
      "code = 'S', opp_key = ('Suriya', 'Stauffer'), w_opp = 7.874830324567078, ignore_loss.iat[pos] = np.False_\n",
      "code = 'N', opp_key = ('Eric', 'Borter'), w_opp = 9.866899668146798, ignore_loss.iat[pos] = np.False_\n",
      "(wins) = [6.3029996962042505, 7.006234689838209, 7.874830324567078]\n",
      "(losses) = [8.04484579483789, 10.456, 9.866899668146798]\n",
      "ignore_loss = date\n",
      "2025-03-23 00:00:00.000    False\n",
      "2025-03-23 00:00:00.000    False\n",
      "2025-03-23 00:00:00.000    False\n",
      "2024-06-08 15:34:14.249     True\n",
      "2024-05-25 12:00:00.000    False\n",
      "2024-05-11 12:00:00.000    False\n",
      "2024-05-05 12:00:00.000    False\n",
      "dtype: bool\n",
      "Computed W=7.223495342489691, R=0.4141724264883294 for w0=6.154\n"
     ]
    },
    {
     "name": "stderr",
     "output_type": "stream",
     "text": [
      "Computing W: 100%|██████████| 8047/8047 [00:27<00:00, 292.09it/s]"
     ]
    },
    {
     "name": "stdout",
     "output_type": "stream",
     "text": [
      "Mean absolute error after iteration: 0.72299\n"
     ]
    },
    {
     "name": "stderr",
     "output_type": "stream",
     "text": [
      "\n"
     ]
    }
   ],
   "source": [
    "comp_values = {k: w0_prev_map[k] for k in w0_prev_map}\n",
    "\n",
    "for _ in range(5):\n",
    "    next_values: Dict[Tuple[str, str], float] = {}\n",
    "    for key, df in tqdm(player_dfs.items(), desc=\"Computing W\"):\n",
    "        if key==(\"Leonard\",\"Ung\"):\n",
    "            print(\"--- w0 ---\")\n",
    "            print(comp_values[key], update_w0(comp_values[key]), w0_prev_map[key])\n",
    "        # W, _ = _compute_W_R(df, update_w0(w0_prev_map[key]), comp_values, print_debug=key==(\"Leonard\",\"Ung\"))\n",
    "        W, _ = _compute_W_R(df, update_w0(comp_values[key]), comp_values, print_debug=key==(\"Leonard\",\"Ung\"))\n",
    "        next_values[key] = W\n",
    "    comp_values = next_values\n",
    "    # print mean abs error between comp_values and w0_map in the 1000 biggest w0_map values\n",
    "    comp_values_top1000_list = sorted(\n",
    "        w0_map.items(), key=lambda item: item[1], reverse=True\n",
    "    )\n",
    "    comp_values_top1000_keys_list = [c[0] for c in comp_values_top1000_list[300:2000]]\n",
    "    mean_abs_error = np.mean(\n",
    "        [abs(comp_values[k] - w0_map[k]) for k in comp_values_top1000_keys_list]\n",
    "    )\n",
    "    print(f\"Mean absolute error after iteration: {mean_abs_error:.5f}\")\n",
    "    \n"
   ]
  },
  {
   "cell_type": "code",
   "execution_count": 31,
   "metadata": {},
   "outputs": [
    {
     "name": "stdout",
     "output_type": "stream",
     "text": [
      "('Alexander', 'Kozlov')\n"
     ]
    }
   ],
   "source": [
    "# w0_prev_map[('Boris', 'Kozlov')]\n",
    "for key in w0_prev_map:\n",
    "    if \"Kozlov\" in key:\n",
    "        print(key)"
   ]
  },
  {
   "cell_type": "markdown",
   "metadata": {},
   "source": [
    "# inverse w0 to find corresponding w0 based on W"
   ]
  },
  {
   "cell_type": "code",
   "execution_count": 5,
   "metadata": {},
   "outputs": [
    {
     "name": "stderr",
     "output_type": "stream",
     "text": [
      "/home/lung/.pyenv/versions/3.11.11/lib/python3.11/site-packages/tqdm/auto.py:21: TqdmWarning: IProgress not found. Please update jupyter and ipywidgets. See https://ipywidgets.readthedocs.io/en/stable/user_install.html\n",
      "  from .autonotebook import tqdm as notebook_tqdm\n",
      "Solving inverted w0: 100%|██████████| 19542/19542 [02:24<00:00, 134.83it/s]\n"
     ]
    }
   ],
   "source": [
    "from multiprocessing import Pool, cpu_count\n",
    "from scipy import optimize\n",
    "from tqdm.auto import tqdm\n",
    "\n",
    "comp_values = {k: w0_map[k] for k in w0_map}\n",
    "\n",
    "\n",
    "def _invert_w0(key_df_target):\n",
    "    \"\"\"\n",
    "    Finds the w0 that makes _compute_W_R(..).W match the stored value.\n",
    "    Returns (player_key, solved_w0) so it slots straight into a dict().\n",
    "    \"\"\"\n",
    "    key, (df, target_W) = key_df_target\n",
    "\n",
    "    def residual(w0):\n",
    "        W, _ = _compute_W_R(df, w0, comp_values, print_debug=False)\n",
    "        return W - target_W\n",
    "\n",
    "    try:\n",
    "        w0_star = optimize.brentq(residual, 0.0, 1.0, maxiter=50)\n",
    "    except ValueError:\n",
    "        w0_star = optimize.newton(residual, w0_prev_map[key], maxiter=30)\n",
    "\n",
    "    return key, w0_star\n",
    "\n",
    "\n",
    "targets = {k: (player_dfs[k], w0_map[k]) for k in player_dfs}\n",
    "\n",
    "with Pool(processes=cpu_count()) as pool:\n",
    "    iterator = pool.imap_unordered(_invert_w0, targets.items(), chunksize=200)\n",
    "    w0_solution_map = dict(tqdm(iterator, total=len(targets), desc=\"Solving inverted w0\"))\n",
    "\n"
   ]
  },
  {
   "cell_type": "markdown",
   "metadata": {},
   "source": [
    "## Testing inverse"
   ]
  },
  {
   "cell_type": "code",
   "execution_count": 6,
   "metadata": {},
   "outputs": [
    {
     "name": "stderr",
     "output_type": "stream",
     "text": [
      "Computing W:   0%|          | 0/9841 [00:00<?, ?it/s]"
     ]
    },
    {
     "name": "stderr",
     "output_type": "stream",
     "text": [
      "Computing W:  18%|█▊        | 1778/9841 [00:04<00:25, 311.16it/s]"
     ]
    },
    {
     "name": "stdout",
     "output_type": "stream",
     "text": [
      "code = 'N', opp_key = ('Ruben', 'Fernandez'), w_opp = 7.523, ignore_loss.iat[pos] = np.True_\n",
      "code = 'S', opp_key = ('Olivier', 'Pifferini'), w_opp = 5.788, ignore_loss.iat[pos] = np.True_\n",
      "code = 'S', opp_key = ('Adrian', 'Saliaj'), w_opp = 6.734, ignore_loss.iat[pos] = np.True_\n",
      "code = 'N', opp_key = ('Carlos José', 'Cuevas Guzman'), w_opp = 10.456, ignore_loss.iat[pos] = np.False_\n",
      "code = 'S', opp_key = ('Suriya', 'Stauffer'), w_opp = 7.64, ignore_loss.iat[pos] = np.False_\n",
      "code = 'N', opp_key = ('Eric', 'Borter'), w_opp = 9.649, ignore_loss.iat[pos] = np.False_\n",
      "(wins) = [5.788, 6.734, 7.64]\n",
      "(losses) = [10.456, 9.649]\n",
      "ignore_loss = date\n",
      "2025-03-23 00:00:00     True\n",
      "2025-03-23 00:00:00     True\n",
      "2025-03-23 00:00:00     True\n",
      "2024-05-25 12:00:00    False\n",
      "2024-05-11 12:00:00    False\n",
      "2024-05-05 12:00:00    False\n",
      "dtype: bool\n",
      "Computed W=6.966999999999999, R=0.40456922046984645 for w0=5.783132837311048\n"
     ]
    },
    {
     "name": "stderr",
     "output_type": "stream",
     "text": [
      "Computing W: 100%|██████████| 9841/9841 [00:23<00:00, 421.22it/s]\n"
     ]
    }
   ],
   "source": [
    "comp_values = {k: w0_map[k] for k in w0_map}\n",
    "\n",
    "for _ in range(1):\n",
    "    next_values: Dict[Tuple[str, str], float] = {}\n",
    "    for key, df in tqdm(player_dfs.items(), desc=\"Computing W\"):\n",
    "        W, _ = _compute_W_R(df, w0_solution_map[key], comp_values, print_debug=key==(\"Leonard\",\"Ung\"))\n",
    "        next_values[key] = W\n",
    "    comp_values = next_values\n"
   ]
  },
  {
   "cell_type": "markdown",
   "metadata": {},
   "source": [
    "# Plotting relationship"
   ]
  },
  {
   "cell_type": "code",
   "execution_count": 6,
   "metadata": {},
   "outputs": [],
   "source": [
    "from matplotlib import pyplot as plt\n",
    "w_true_list, w0_solution_list= [], []\n",
    "n_win, n_loss=[],[]\n",
    "n_matches = []\n",
    "player_name_list=[]\n",
    "for key in w0_map:\n",
    "    w_true_list.append(w0_map[key])\n",
    "    w0_solution_list.append(w0_solution_map[key])\n",
    "    n_matches.append(len(player_dfs[key]))\n",
    "    player_name_list.append(f\"{key[0]} {key[1]}\")\n",
    "    if player_dfs[key].empty:\n",
    "        n_win.append(0)\n",
    "        n_loss.append(0)\n",
    "    else:\n",
    "        n_win.append(player_dfs[key]['playerWinnerCode'].value_counts().get('S', 0))\n",
    "        n_loss.append(player_dfs[key]['playerWinnerCode'].value_counts().get('N', 0))"
   ]
  },
  {
   "cell_type": "code",
   "execution_count": 7,
   "metadata": {},
   "outputs": [
    {
     "name": "stderr",
     "output_type": "stream",
     "text": [
      "/tmp/ipykernel_2486532/365455242.py:4: UserWarning: No artists with labels found to put in legend.  Note that artists whose label start with an underscore are ignored when legend() is called with no argument.\n",
      "  plt.legend()\n"
     ]
    },
    {
     "data": {
      "image/png": "[encoded data removed]",
      "text/plain": [
       "<Figure size 600x600 with 1 Axes>"
      ]
     },
     "metadata": {},
     "output_type": "display_data"
    }
   ],
   "source": [
    "plt.figure(figsize=(6,6))\n",
    "plt.scatter(np.array(w_true_list) / np.array(w0_solution_list), n_matches, s=15, alpha=0.5)\n",
    "\n",
    "plt.legend()\n",
    "plt.grid(True)\n",
    "plt.xlim(0, 3)\n",
    "plt.tight_layout()\n",
    "plt.show()"
   ]
  },
  {
   "cell_type": "code",
   "execution_count": 8,
   "metadata": {},
   "outputs": [
    {
     "name": "stdout",
     "output_type": "stream",
     "text": [
      "len(df) = 19542\n",
      "len(df) = 286\n",
      "Pearson correlation = 0.980\n"
     ]
    },
    {
     "data": {
      "image/png": "[encoded data removed]",
      "text/plain": [
       "<Figure size 640x480 with 1 Axes>"
      ]
     },
     "metadata": {},
     "output_type": "display_data"
    }
   ],
   "source": [
    "import pandas as pd\n",
    "import numpy as np\n",
    "from sklearn.linear_model import LinearRegression\n",
    "\n",
    "df = pd.DataFrame({\n",
    "    \"w_true\": w_true_list,\n",
    "    \"w0_solution\": w0_solution_list,\n",
    "    \"n_win\": n_win,\n",
    "    \"n_loss\": n_loss,\n",
    "    \"n_matches\": n_matches,\n",
    "    \"player_name\": player_name_list\n",
    "})\n",
    "# remove all rows where w_true devided by w0_solution < 1 and w_true devided by w0_solution > 1.5\n",
    "print(f\"{len(df) = }\")\n",
    "df = df[(df[\"w_true\"] / df[\"w0_solution\"] >= 1) & (df[\"w_true\"] / df[\"w0_solution\"] <= 1.5)]\n",
    "# remove all rows where n_matches == 0\n",
    "df = df[(df[\"n_matches\"] == 1) & (df[\"n_win\"] == 1)]\n",
    "print(f\"{len(df) = }\")\n",
    "\n",
    "# Quick sanity-check\n",
    "assert not df.isna().any().any(), \"Missing values will break regressions\"\n",
    "r = np.corrcoef(df[\"w_true\"], df[\"w0_solution\"])[0, 1]\n",
    "print(f\"Pearson correlation = {r:.3f}\")\n",
    "\n",
    "X = df[[\"w_true\"]].values\n",
    "y = df[\"w0_solution\"].values\n",
    "\n",
    "lin1 = LinearRegression().fit(X, y)\n",
    "plt.scatter(df[\"w_true\"], df[\"w0_solution\"], alpha=0.25, marker=\".\")\n",
    "plt.plot(X, lin1.predict(X))\n",
    "# plot x=y line\n",
    "plt.plot([df[\"w_true\"].min(), df[\"w_true\"].max()], [df[\"w_true\"].min(), df[\"w_true\"].max()],\n",
    "         color=\"red\",\n",
    "         linestyle=\"--\",\n",
    "         label=\"y=x\")\n",
    "plt.xlabel(\"w_true\")\n",
    "plt.ylabel(\"w0_solution\")\n",
    "plt.title(\"Baseline relationship between w_true and w0_solution\")\n",
    "plt.show()\n"
   ]
  },
  {
   "cell_type": "code",
   "execution_count": 9,
   "metadata": {},
   "outputs": [
    {
     "data": {
      "text/html": [
       "<div>\n",
       "<style scoped>\n",
       "    .dataframe tbody tr th:only-of-type {\n",
       "        vertical-align: middle;\n",
       "    }\n",
       "\n",
       "    .dataframe tbody tr th {\n",
       "        vertical-align: top;\n",
       "    }\n",
       "\n",
       "    .dataframe thead th {\n",
       "        text-align: right;\n",
       "    }\n",
       "</style>\n",
       "<table border=\"1\" class=\"dataframe\">\n",
       "  <thead>\n",
       "    <tr style=\"text-align: right;\">\n",
       "      <th></th>\n",
       "      <th>w_true</th>\n",
       "      <th>w0_solution</th>\n",
       "      <th>n_win</th>\n",
       "      <th>n_loss</th>\n",
       "      <th>n_matches</th>\n",
       "      <th>player_name</th>\n",
       "    </tr>\n",
       "  </thead>\n",
       "  <tbody>\n",
       "    <tr>\n",
       "      <th>2</th>\n",
       "      <td>3.235</td>\n",
       "      <td>2.545126</td>\n",
       "      <td>1</td>\n",
       "      <td>0</td>\n",
       "      <td>1</td>\n",
       "      <td>Dimo Hristov</td>\n",
       "    </tr>\n",
       "    <tr>\n",
       "      <th>169</th>\n",
       "      <td>2.796</td>\n",
       "      <td>2.726951</td>\n",
       "      <td>1</td>\n",
       "      <td>0</td>\n",
       "      <td>1</td>\n",
       "      <td>Pius von*Rotz</td>\n",
       "    </tr>\n",
       "    <tr>\n",
       "      <th>197</th>\n",
       "      <td>1.754</td>\n",
       "      <td>1.206113</td>\n",
       "      <td>1</td>\n",
       "      <td>0</td>\n",
       "      <td>1</td>\n",
       "      <td>Vito Fortunato</td>\n",
       "    </tr>\n",
       "    <tr>\n",
       "      <th>282</th>\n",
       "      <td>2.820</td>\n",
       "      <td>2.156062</td>\n",
       "      <td>1</td>\n",
       "      <td>0</td>\n",
       "      <td>1</td>\n",
       "      <td>Marc Läuchli</td>\n",
       "    </tr>\n",
       "    <tr>\n",
       "      <th>286</th>\n",
       "      <td>2.320</td>\n",
       "      <td>2.157414</td>\n",
       "      <td>1</td>\n",
       "      <td>0</td>\n",
       "      <td>1</td>\n",
       "      <td>Valentin Eitzinger</td>\n",
       "    </tr>\n",
       "    <tr>\n",
       "      <th>...</th>\n",
       "      <td>...</td>\n",
       "      <td>...</td>\n",
       "      <td>...</td>\n",
       "      <td>...</td>\n",
       "      <td>...</td>\n",
       "      <td>...</td>\n",
       "    </tr>\n",
       "    <tr>\n",
       "      <th>19177</th>\n",
       "      <td>2.240</td>\n",
       "      <td>1.708861</td>\n",
       "      <td>1</td>\n",
       "      <td>0</td>\n",
       "      <td>1</td>\n",
       "      <td>Hannes Keller</td>\n",
       "    </tr>\n",
       "    <tr>\n",
       "      <th>19205</th>\n",
       "      <td>3.873</td>\n",
       "      <td>3.348632</td>\n",
       "      <td>1</td>\n",
       "      <td>0</td>\n",
       "      <td>1</td>\n",
       "      <td>Kevin Stoudmann</td>\n",
       "    </tr>\n",
       "    <tr>\n",
       "      <th>19267</th>\n",
       "      <td>1.974</td>\n",
       "      <td>1.800771</td>\n",
       "      <td>1</td>\n",
       "      <td>0</td>\n",
       "      <td>1</td>\n",
       "      <td>Urs Trütsch</td>\n",
       "    </tr>\n",
       "    <tr>\n",
       "      <th>19320</th>\n",
       "      <td>2.018</td>\n",
       "      <td>1.728353</td>\n",
       "      <td>1</td>\n",
       "      <td>0</td>\n",
       "      <td>1</td>\n",
       "      <td>Gion -*Clau*Schuoler</td>\n",
       "    </tr>\n",
       "    <tr>\n",
       "      <th>19509</th>\n",
       "      <td>1.919</td>\n",
       "      <td>1.789354</td>\n",
       "      <td>1</td>\n",
       "      <td>0</td>\n",
       "      <td>1</td>\n",
       "      <td>Wayne England</td>\n",
       "    </tr>\n",
       "  </tbody>\n",
       "</table>\n",
       "<p>286 rows × 6 columns</p>\n",
       "</div>"
      ],
      "text/plain": [
       "       w_true  w0_solution  n_win  n_loss  n_matches           player_name\n",
       "2       3.235     2.545126      1       0          1          Dimo Hristov\n",
       "169     2.796     2.726951      1       0          1         Pius von*Rotz\n",
       "197     1.754     1.206113      1       0          1        Vito Fortunato\n",
       "282     2.820     2.156062      1       0          1          Marc Läuchli\n",
       "286     2.320     2.157414      1       0          1    Valentin Eitzinger\n",
       "...       ...          ...    ...     ...        ...                   ...\n",
       "19177   2.240     1.708861      1       0          1         Hannes Keller\n",
       "19205   3.873     3.348632      1       0          1       Kevin Stoudmann\n",
       "19267   1.974     1.800771      1       0          1           Urs Trütsch\n",
       "19320   2.018     1.728353      1       0          1  Gion -*Clau*Schuoler\n",
       "19509   1.919     1.789354      1       0          1         Wayne England\n",
       "\n",
       "[286 rows x 6 columns]"
      ]
     },
     "execution_count": 9,
     "metadata": {},
     "output_type": "execute_result"
    }
   ],
   "source": [
    "df"
   ]
  },
  {
   "cell_type": "code",
   "execution_count": 10,
   "metadata": {},
   "outputs": [
    {
     "data": {
      "text/html": [
       "<div>\n",
       "<style scoped>\n",
       "    .dataframe tbody tr th:only-of-type {\n",
       "        vertical-align: middle;\n",
       "    }\n",
       "\n",
       "    .dataframe tbody tr th {\n",
       "        vertical-align: top;\n",
       "    }\n",
       "\n",
       "    .dataframe thead th {\n",
       "        text-align: right;\n",
       "    }\n",
       "</style>\n",
       "<table border=\"1\" class=\"dataframe\">\n",
       "  <thead>\n",
       "    <tr style=\"text-align: right;\">\n",
       "      <th></th>\n",
       "      <th>adversaryFirstname</th>\n",
       "      <th>adversaryLastname</th>\n",
       "      <th>playerWinnerCode</th>\n",
       "      <th>adversary.classification</th>\n",
       "      <th>rank</th>\n",
       "      <th>adversary.competitionValue4L</th>\n",
       "      <th>Asr_AdversaryValue_f</th>\n",
       "    </tr>\n",
       "    <tr>\n",
       "      <th>date</th>\n",
       "      <th></th>\n",
       "      <th></th>\n",
       "      <th></th>\n",
       "      <th></th>\n",
       "      <th></th>\n",
       "      <th></th>\n",
       "      <th></th>\n",
       "    </tr>\n",
       "  </thead>\n",
       "  <tbody>\n",
       "    <tr>\n",
       "      <th>2024-09-01 13:51:37.094</th>\n",
       "      <td>Julius</td>\n",
       "      <td>Schäli</td>\n",
       "      <td>S</td>\n",
       "      <td>R7</td>\n",
       "      <td>None</td>\n",
       "      <td>1.936</td>\n",
       "      <td>0</td>\n",
       "    </tr>\n",
       "    <tr>\n",
       "      <th>2024-08-24 13:51:37.084</th>\n",
       "      <td>Michael</td>\n",
       "      <td>Baly</td>\n",
       "      <td>S</td>\n",
       "      <td>R6</td>\n",
       "      <td>None</td>\n",
       "      <td>3.233</td>\n",
       "      <td>0</td>\n",
       "    </tr>\n",
       "    <tr>\n",
       "      <th>2024-06-22 12:00:00.000</th>\n",
       "      <td>Lars</td>\n",
       "      <td>Aellig</td>\n",
       "      <td>S</td>\n",
       "      <td>R6</td>\n",
       "      <td>None</td>\n",
       "      <td>3.800</td>\n",
       "      <td>0</td>\n",
       "    </tr>\n",
       "    <tr>\n",
       "      <th>2024-06-07 12:00:00.000</th>\n",
       "      <td>Wiktor</td>\n",
       "      <td>Kaluzny</td>\n",
       "      <td>S</td>\n",
       "      <td>R8</td>\n",
       "      <td>None</td>\n",
       "      <td>1.249</td>\n",
       "      <td>0</td>\n",
       "    </tr>\n",
       "    <tr>\n",
       "      <th>2024-06-05 00:00:00.000</th>\n",
       "      <td>Julius</td>\n",
       "      <td>Schäli</td>\n",
       "      <td>S</td>\n",
       "      <td>R7</td>\n",
       "      <td>None</td>\n",
       "      <td>1.936</td>\n",
       "      <td>0</td>\n",
       "    </tr>\n",
       "    <tr>\n",
       "      <th>2024-05-12 12:00:00.000</th>\n",
       "      <td>Claudio</td>\n",
       "      <td>Imfeld</td>\n",
       "      <td>S</td>\n",
       "      <td>R5</td>\n",
       "      <td>None</td>\n",
       "      <td>4.511</td>\n",
       "      <td>0</td>\n",
       "    </tr>\n",
       "  </tbody>\n",
       "</table>\n",
       "</div>"
      ],
      "text/plain": [
       "                        adversaryFirstname adversaryLastname playerWinnerCode  \\\n",
       "date                                                                            \n",
       "2024-09-01 13:51:37.094             Julius            Schäli                S   \n",
       "2024-08-24 13:51:37.084            Michael              Baly                S   \n",
       "2024-06-22 12:00:00.000               Lars            Aellig                S   \n",
       "2024-06-07 12:00:00.000             Wiktor           Kaluzny                S   \n",
       "2024-06-05 00:00:00.000             Julius            Schäli                S   \n",
       "2024-05-12 12:00:00.000            Claudio            Imfeld                S   \n",
       "\n",
       "                        adversary.classification  rank  \\\n",
       "date                                                     \n",
       "2024-09-01 13:51:37.094                       R7  None   \n",
       "2024-08-24 13:51:37.084                       R6  None   \n",
       "2024-06-22 12:00:00.000                       R6  None   \n",
       "2024-06-07 12:00:00.000                       R8  None   \n",
       "2024-06-05 00:00:00.000                       R7  None   \n",
       "2024-05-12 12:00:00.000                       R5  None   \n",
       "\n",
       "                         adversary.competitionValue4L  Asr_AdversaryValue_f  \n",
       "date                                                                         \n",
       "2024-09-01 13:51:37.094                         1.936                     0  \n",
       "2024-08-24 13:51:37.084                         3.233                     0  \n",
       "2024-06-22 12:00:00.000                         3.800                     0  \n",
       "2024-06-07 12:00:00.000                         1.249                     0  \n",
       "2024-06-05 00:00:00.000                         1.936                     0  \n",
       "2024-05-12 12:00:00.000                         4.511                     0  "
      ]
     },
     "execution_count": 10,
     "metadata": {},
     "output_type": "execute_result"
    }
   ],
   "source": [
    "player_dfs[(\"Ciril\",\"Eberling\")]"
   ]
  },
  {
   "cell_type": "code",
   "execution_count": 49,
   "metadata": {},
   "outputs": [
    {
     "name": "stdout",
     "output_type": "stream",
     "text": [
      "--- Linear Regression ---\n",
      "Coefficients (β): {'w_true': np.float64(1.0314438778639556)}\n",
      "Intercept (β₀): -0.5311986613015218\n",
      "R² (train / test): 0.967 / 0.966\n",
      "RMSE (test): 0.23583840804777012\n",
      "Mean absolute percentage error (test): 5.501037558148452\n",
      "\n",
      "--- Polynomial Regression ---\n",
      "coefficients (β): {'1': np.float64(0.0), 'w_true': np.float64(0.9007485202068095), 'w_true^2': np.float64(0.011984372893535489)}\n",
      "intercept (β₀): -0.2211731075966492\n",
      "R² (train / test): 0.968 / 0.966\n",
      "RMSE (test): 0.23790347599257752\n",
      "Mean absolute percentage error (test): 5.495381545738021\n"
     ]
    }
   ],
   "source": [
    "from sklearn.model_selection import train_test_split\n",
    "from sklearn.metrics import r2_score, mean_squared_error\n",
    "from sklearn.linear_model import LinearRegression\n",
    "from sklearn.preprocessing import PolynomialFeatures\n",
    "\n",
    "predictors = [\"w_true\", \"n_win\", \"n_loss\", \"n_matches\"]         \n",
    "predictors = [\"w_true\", \"n_matches\"]         \n",
    "predictors = [\"w_true\"]         \n",
    "X_train, X_test, y_train, y_test = train_test_split(\n",
    "    df[predictors], df[\"w0_solution\"], test_size=0.2, random_state=2)\n",
    "# X_train, X_test, y_train, y_test=df[predictors],df[predictors], df[\"w0_solution\"], df[\"w0_solution\"]\n",
    "lin = LinearRegression().fit(X_train, y_train)\n",
    "print(\"--- Linear Regression ---\")\n",
    "print(\"Coefficients (β):\", dict(zip(predictors, lin.coef_)))\n",
    "print(\"Intercept (β₀):\",  lin.intercept_)\n",
    "print(\"R² (train / test):\",\n",
    "      f\"{lin.score(X_train, y_train):.3f} / {lin.score(X_test, y_test):.3f}\")\n",
    "print(\"RMSE (test):\", np.sqrt(mean_squared_error(y_test, lin.predict(X_test))))\n",
    "print(\"Mean absolute percentage error (test):\",\n",
    "        np.mean(np.abs((y_test - lin.predict(X_test)) / y_test)) * 100)\n",
    "print(\"\\n--- Polynomial Regression ---\")\n",
    "# polynomial regression degree 2\n",
    "poly = PolynomialFeatures(degree=2)\n",
    "X_poly = poly.fit_transform(X_train)\n",
    "lin_poly = LinearRegression().fit(X_poly, y_train)\n",
    "print(\"coefficients (β):\", dict(zip(poly.get_feature_names_out(predictors), lin_poly.coef_)))\n",
    "print(\"intercept (β₀):\", lin_poly.intercept_)\n",
    "print(\"R² (train / test):\",\n",
    "      f\"{lin_poly.score(X_poly, y_train):.3f} / {lin_poly.score(poly.transform(X_test), y_test):.3f}\")\n",
    "print(\"RMSE (test):\", np.sqrt(mean_squared_error(y_test, lin_poly.predict(poly.transform(X_test)))))\n",
    "print(\"Mean absolute percentage error (test):\",\n",
    "        np.mean(np.abs((y_test - lin_poly.predict(poly.transform(X_test))) / y_test)) * 100)"
   ]
  }
 ],
 "metadata": {
  "kernelspec": {
   "display_name": "Python 3",
   "language": "python",
   "name": "python3"
  },
  "language_info": {
   "codemirror_mode": {
    "name": "ipython",
    "version": 3
   },
   "file_extension": ".py",
   "mimetype": "text/x-python",
   "name": "python",
   "nbconvert_exporter": "python",
   "pygments_lexer": "ipython3",
   "version": "3.11.11"
  }
 },
 "nbformat": 4,
 "nbformat_minor": 2
}
